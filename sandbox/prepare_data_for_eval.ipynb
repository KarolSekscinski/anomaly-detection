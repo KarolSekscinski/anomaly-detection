{
 "cells": [
  {
   "cell_type": "code",
   "execution_count": 1,
   "id": "initial_id",
   "metadata": {
    "collapsed": true,
    "ExecuteTime": {
     "end_time": "2025-01-03T06:44:40.337100600Z",
     "start_time": "2025-01-03T06:44:39.534060300Z"
    }
   },
   "outputs": [],
   "source": [
    "import pandas as pd"
   ]
  },
  {
   "cell_type": "code",
   "outputs": [],
   "source": [
    "def read_files_based_on_paths(path, stocks_csv, price_anomalies_csv, volume_anomalies_csv):\n",
    "    # Load the CSV files into DataFrames\n",
    "    stocks_df = pd.read_csv(stocks_csv)\n",
    "    price_anomalies_df = pd.read_csv(price_anomalies_csv)\n",
    "    volume_anomalies_df = pd.read_csv(volume_anomalies_csv)\n",
    "    \n",
    "    \n",
    "    price_anomalies_df['price_pred'] = 1\n",
    "    volume_anomalies_df['volume_pred'] = 1\n",
    "    \n",
    "    \n",
    "    # Combine all DataFrames into one\n",
    "    combined_df = pd.concat([stocks_df, price_anomalies_df, volume_anomalies_df], ignore_index=True)\n",
    "    combined_df['ingestion_ts'] = pd.to_datetime(combined_df['ingestion_ts'])\n",
    "    \n",
    "    combined_df = combined_df.sort_values(by='ingestion_ts', ascending=True).reset_index(drop=True)\n",
    "    # Interpolate missing values in 'price' and 'volume' columns\n",
    "    combined_df['price'] = combined_df['price'].interpolate(method='linear')  # Linear interpolation for 'price'\n",
    "    combined_df['volume'] = combined_df['volume'].interpolate(method='linear')  # Linear interpolation for 'volume'\n",
    "    combined_df[\"price\"] = combined_df[\"price\"].fillna(combined_df[\"price\"].mean())\n",
    "    combined_df[\"volume\"] = combined_df[\"volume\"].fillna(combined_df[\"volume\"].mean())\n",
    "    \n",
    "    # Save the combined DataFrame to a new CSV file\n",
    "    combined_csv = f'{path}/combined_15min.csv'\n",
    "    combined_df.to_csv(combined_csv, index=False)\n",
    "    \n",
    "    print(f\"Combined CSV saved to {combined_csv}\")"
   ],
   "metadata": {
    "collapsed": false,
    "ExecuteTime": {
     "end_time": "2025-01-03T06:44:40.353100900Z",
     "start_time": "2025-01-03T06:44:40.341101800Z"
    }
   },
   "id": "85ff421bd23184a9",
   "execution_count": 2
  },
  {
   "cell_type": "code",
   "outputs": [
    {
     "name": "stdout",
     "output_type": "stream",
     "text": [
      "Combined CSV saved to data/z-score/combined_15min.csv\n",
      "Combined CSV saved to data/iqr/combined_15min.csv\n",
      "Combined CSV saved to data/iforest/combined_15min.csv\n",
      "Combined CSV saved to data/arima/combined_15min.csv\n"
     ]
    }
   ],
   "source": [
    "paths = [\"z-score\", \"iqr\", \"iforest\", \"arima\"]\n",
    "files = [\"base_15min.csv\", \"p_15min.csv\", \"v_15min.csv\"]\n",
    "for path in paths:\n",
    "    stocks_csv = f\"data/{path}/{files[0]}\"\n",
    "    price_anomalies_csv = f\"data/{path}/{files[1]}\"\n",
    "    volume_anomalies_csv = f\"data/{path}/{files[2]}\"\n",
    "    read_files_based_on_paths(f\"data/{path}\", stocks_csv, price_anomalies_csv, volume_anomalies_csv)"
   ],
   "metadata": {
    "collapsed": false,
    "ExecuteTime": {
     "end_time": "2025-01-03T06:44:40.466192700Z",
     "start_time": "2025-01-03T06:44:40.355100300Z"
    }
   },
   "id": "7ef6075bb4cb9696",
   "execution_count": 3
  }
 ],
 "metadata": {
  "kernelspec": {
   "display_name": "Python 3",
   "language": "python",
   "name": "python3"
  },
  "language_info": {
   "codemirror_mode": {
    "name": "ipython",
    "version": 2
   },
   "file_extension": ".py",
   "mimetype": "text/x-python",
   "name": "python",
   "nbconvert_exporter": "python",
   "pygments_lexer": "ipython2",
   "version": "2.7.6"
  }
 },
 "nbformat": 4,
 "nbformat_minor": 5
}
