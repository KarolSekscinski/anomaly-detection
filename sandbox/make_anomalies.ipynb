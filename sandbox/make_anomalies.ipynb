{
 "cells": [
  {
   "cell_type": "code",
   "execution_count": 19,
   "id": "initial_id",
   "metadata": {
    "collapsed": true,
    "ExecuteTime": {
     "end_time": "2024-12-08T20:23:20.421031300Z",
     "start_time": "2024-12-08T20:23:20.390752600Z"
    }
   },
   "outputs": [],
   "source": [
    "import pandas as pd\n",
    "import numpy as np\n",
    "from datetime import datetime"
   ]
  },
  {
   "cell_type": "code",
   "outputs": [],
   "source": [
    "df = pd.read_csv(\"data/finnhub1h.csv\")\n",
    "columns_to_read = [\"symbol\",\"trade_ts\",\"price\",\"trade_conditions\",\"type\",\"volume\"]\n",
    "timestamp_format = \"%Y-%m-%d %H:%M:%S.%f%z\"\n",
    "df = df[columns_to_read]\n",
    "# df[\"trade_ts\"] = df[\"trade_ts\"].apply(lambda a: datetime.strptime(a, timestamp_format))\n",
    "# df = df.set_index(\"trade_ts\")"
   ],
   "metadata": {
    "collapsed": false,
    "ExecuteTime": {
     "end_time": "2024-12-08T20:23:20.534556500Z",
     "start_time": "2024-12-08T20:23:20.410619100Z"
    }
   },
   "id": "8351967d3d123e19",
   "execution_count": 20
  },
  {
   "cell_type": "code",
   "outputs": [],
   "source": [
    "# Function to introduce anomalies\n",
    "def add_anomalies(input_df, columns, anomaly_ratio=0.2):\n",
    "    \"\"\"\n",
    "    Introduce random anomalies in specified columns of the DataFrame.\n",
    "    \n",
    "    Parameters:\n",
    "    df (pd.DataFrame): Input DataFrame\n",
    "    columns (list): Columns to introduce anomalies\n",
    "    anomaly_ratio (float): Proportion of rows to have anomalies (0 < anomaly_ratio <= 1)\n",
    "    \n",
    "    Returns:\n",
    "    pd.DataFrame: DataFrame with anomalies\n",
    "    \"\"\"\n",
    "    df_anomalous = input_df.copy()\n",
    "    num_rows = len(input_df)\n",
    "    num_anomalies = max(1, int(anomaly_ratio * num_rows))  # Ensure at least one anomaly\n",
    "\n",
    "    for col in columns:\n",
    "        min_val, max_val = input_df[col].min(), input_df[col].max()\n",
    "        anomaly_indices = np.random.choice(input_df.index, size=num_anomalies, replace=False)\n",
    "        \n",
    "        # Generate random anomalies: values outside the normal range\n",
    "        anomalies = np.random.uniform(min(min_val - (max_val - min_val),0), \n",
    "                                       max_val + (max_val - min_val), \n",
    "                                       size=num_anomalies)\n",
    "        df_anomalous.loc[anomaly_indices, col] = anomalies\n",
    "    \n",
    "    return df_anomalous"
   ],
   "metadata": {
    "collapsed": false,
    "ExecuteTime": {
     "end_time": "2024-12-08T20:23:20.551557800Z",
     "start_time": "2024-12-08T20:23:20.534556500Z"
    }
   },
   "id": "eff9d402f926a454",
   "execution_count": 21
  },
  {
   "cell_type": "code",
   "outputs": [
    {
     "name": "stdout",
     "output_type": "stream",
     "text": [
      "Original DataFrame:\n",
      "               price  trade_conditions        volume\n",
      "count   41004.000000               0.0  41004.000000\n",
      "mean   101566.731830               NaN      0.016646\n",
      "std       229.775165               NaN      0.074600\n",
      "min    101056.000000               NaN      0.000010\n",
      "25%    101367.787500               NaN      0.000240\n",
      "50%    101620.010000               NaN      0.000820\n",
      "75%    101775.992500               NaN      0.005900\n",
      "max    101898.000000               NaN      6.602400\n",
      "\n",
      "DataFrame with Anomalies:\n",
      "               price  trade_conditions        volume\n",
      "count   41004.000000               0.0  41004.000000\n",
      "mean    99593.300784               NaN      0.150706\n",
      "std     11323.244802               NaN      1.327159\n",
      "min        31.299671               NaN     -6.573366\n",
      "25%    101328.640000               NaN      0.000230\n",
      "50%    101592.510000               NaN      0.000880\n",
      "75%    101768.350000               NaN      0.007060\n",
      "max    102732.810421               NaN     13.181165\n"
     ]
    }
   ],
   "source": [
    "# Adding anomalies\n",
    "columns_to_anomalize = ['price', 'volume']\n",
    "df_with_anomalies = add_anomalies(df, columns_to_anomalize, anomaly_ratio=0.04)\n",
    "\n",
    "# Display original and anomalous DataFrames\n",
    "print(\"Original DataFrame:\")\n",
    "print(df.describe())\n",
    "print(\"\\nDataFrame with Anomalies:\")\n",
    "print(df_with_anomalies.describe())\n",
    "df_with_anomalies.to_csv('data/finnhub_anomalies.csv')"
   ],
   "metadata": {
    "collapsed": false,
    "ExecuteTime": {
     "end_time": "2024-12-08T20:23:20.817182200Z",
     "start_time": "2024-12-08T20:23:20.551557800Z"
    }
   },
   "id": "612dbabfe4b7e844",
   "execution_count": 22
  }
 ],
 "metadata": {
  "kernelspec": {
   "display_name": "Python 3",
   "language": "python",
   "name": "python3"
  },
  "language_info": {
   "codemirror_mode": {
    "name": "ipython",
    "version": 2
   },
   "file_extension": ".py",
   "mimetype": "text/x-python",
   "name": "python",
   "nbconvert_exporter": "python",
   "pygments_lexer": "ipython2",
   "version": "2.7.6"
  }
 },
 "nbformat": 4,
 "nbformat_minor": 5
}
