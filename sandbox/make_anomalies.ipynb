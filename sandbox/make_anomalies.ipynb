{
 "cells": [
  {
   "cell_type": "code",
   "execution_count": 1,
   "id": "initial_id",
   "metadata": {
    "collapsed": true,
    "ExecuteTime": {
     "end_time": "2025-01-09T17:50:17.994103900Z",
     "start_time": "2025-01-09T17:50:17.979732400Z"
    }
   },
   "outputs": [],
   "source": [
    "import pandas as pd\n",
    "import numpy as np\n",
    "from datetime import datetime\n",
    "import matplotlib.pyplot as plt\n",
    "import random"
   ]
  },
  {
   "cell_type": "code",
   "outputs": [],
   "source": [
    "df = pd.read_csv(\"data/finnhub1h.csv\")\n",
    "columns_to_read = [\"symbol\",\"trade_ts\",\"price\",\"trade_conditions\",\"type\",\"volume\"]\n",
    "timestamp_format = \"%Y-%m-%d %H:%M:%S.%f%z\"\n",
    "df = df[columns_to_read]\n",
    "df = df.head(10000)\n",
    "# df[\"trade_ts\"] = df[\"trade_ts\"].apply(lambda a: datetime.strptime(a, timestamp_format))\n",
    "# df = df.set_index(\"trade_ts\")"
   ],
   "metadata": {
    "collapsed": false,
    "ExecuteTime": {
     "end_time": "2025-01-09T17:50:18.092892500Z",
     "start_time": "2025-01-09T17:50:17.996102700Z"
    }
   },
   "id": "8351967d3d123e19",
   "execution_count": 2
  },
  {
   "cell_type": "code",
   "outputs": [],
   "source": [
    "import numpy as np\n",
    "import pandas as pd\n",
    "\n",
    "def add_anomalies(input_df, anomaly_ratio=0.02):\n",
    "    \"\"\"\n",
    "    Introduce random anomalies in specified columns of the DataFrame, with anomalies being\n",
    "    based on the mean of two closest values (previous and next).\n",
    "    \n",
    "    Parameters:\n",
    "    input_df (pd.DataFrame): Input DataFrame\n",
    "    anomaly_ratio (float): Proportion of rows to have anomalies (0 < anomaly_ratio <= 1)\n",
    "    \n",
    "    Returns:\n",
    "    pd.DataFrame: DataFrame with anomalies\n",
    "    \"\"\"\n",
    "    df_anomalous = input_df.copy()\n",
    "    num_rows = len(input_df)\n",
    "    num_anomalies = max(1, int(anomaly_ratio * num_rows))  # Ensure at least one anomaly\n",
    "    \n",
    "    # Initialize columns to mark anomalies\n",
    "    df_anomalous[\"price_anomaly\"] = 0.0\n",
    "    df_anomalous[\"volume_anomaly\"] = 0.0\n",
    "    \n",
    "    # Price anomalies\n",
    "    for _ in range(num_anomalies):\n",
    "        # Select random index for anomaly\n",
    "        anomaly_index = np.random.choice(input_df.index)\n",
    "        \n",
    "        # Ensure not at the first or last index to have both previous and next values\n",
    "        if anomaly_index == 0:\n",
    "            anomaly_index += 1\n",
    "        elif anomaly_index == num_rows - 1:\n",
    "            anomaly_index -= 1\n",
    "        \n",
    "        # Get the previous and next values for \"price\"\n",
    "        prev_price = input_df.iloc[anomaly_index - 1][\"price\"]\n",
    "        next_price = input_df.iloc[anomaly_index + 1][\"price\"]\n",
    "        \n",
    "        # Calculate the mean of the previous and next price values\n",
    "        price_mean = (prev_price + next_price) / 2\n",
    "        \n",
    "        # Introduce anomaly: randomly add or subtract a small percentage of the mean\n",
    "        random_factor = np.random.uniform(0, 0.00001) * 4.5\n",
    "        price_anomaly = round(price_mean + np.random.choice([-1, 1]) * random_factor * price_mean, 2)\n",
    "        \n",
    "        # Set anomaly and update price column\n",
    "        \n",
    "        df_anomalous.loc[anomaly_index, \"price\"] = price_anomaly\n",
    "        \n",
    "        df_anomalous.loc[anomaly_index, \"price_anomaly\"] = 1.0  # Mark anomaly\n",
    "    \n",
    "    \n",
    "    # Volume anomalies\n",
    "    for _ in range(num_anomalies):\n",
    "        # Select random index for anomaly\n",
    "        anomaly_index = np.random.choice(input_df.index)\n",
    "        \n",
    "        # Ensure not at the first or last index to have both previous and next values\n",
    "        if anomaly_index == 0:\n",
    "            anomaly_index += 1\n",
    "        elif anomaly_index == num_rows - 1:\n",
    "            anomaly_index -= 1\n",
    "        \n",
    "        # Get the previous and next values for \"volume\"\n",
    "        prev_volume = input_df.iloc[anomaly_index - 1][\"volume\"]\n",
    "        next_volume = input_df.iloc[anomaly_index + 1][\"volume\"]\n",
    "        \n",
    "        # Calculate the mean of the previous and next volume values\n",
    "        volume_mean = (prev_volume + next_volume) / 2\n",
    "        random_factor = np.random.uniform(0, 0.1) * 3\n",
    "        \n",
    "        # Introduce anomaly: randomly add or subtract a percentage of the mean\n",
    "        volume_anomaly = round(volume_mean + np.random.choice([-1, 1]) * random_factor * volume_mean, 5)\n",
    "        \n",
    "        # Check if volume anomaly is greater than 0.2\n",
    "        if volume_anomaly > 0.2:\n",
    "            # Set anomaly and update volume column\n",
    "            df_anomalous.loc[anomaly_index, \"volume\"] = volume_anomaly\n",
    "            df_anomalous.loc[anomaly_index, \"volume_anomaly\"] = 1.0  # Mark anomaly\n",
    "            \n",
    "    df_anomalous[\"volume_anomaly\"] = (df_anomalous[\"volume\"] > 0.2).astype(float)\n",
    "\n",
    "    return df_anomalous\n"
   ],
   "metadata": {
    "collapsed": false,
    "ExecuteTime": {
     "end_time": "2025-01-09T17:50:18.109140600Z",
     "start_time": "2025-01-09T17:50:18.093900100Z"
    }
   },
   "id": "eff9d402f926a454",
   "execution_count": 3
  },
  {
   "cell_type": "code",
   "outputs": [
    {
     "name": "stdout",
     "output_type": "stream",
     "text": [
      "Original DataFrame:\n",
      "               price  trade_conditions        volume\n",
      "count   10000.000000               0.0  10000.000000\n",
      "mean   101700.783883               NaN      0.022199\n",
      "std        70.139008               NaN      0.073345\n",
      "min    101533.020000               NaN      0.000010\n",
      "25%    101656.000000               NaN      0.000250\n",
      "50%    101695.200000               NaN      0.001600\n",
      "75%    101762.960000               NaN      0.010222\n",
      "max    101839.990000               NaN      2.509020\n",
      "\n",
      "DataFrame with Anomalies:\n",
      "               price  trade_conditions        volume  price_anomaly  \\\n",
      "count   10000.000000               0.0  10000.000000   10000.000000   \n",
      "mean   101700.783906               NaN      0.022403       0.048200   \n",
      "std        70.138287               NaN      0.073815       0.214199   \n",
      "min    101533.020000               NaN      0.000010       0.000000   \n",
      "25%    101656.000000               NaN      0.000250       0.000000   \n",
      "50%    101695.200000               NaN      0.001600       0.000000   \n",
      "75%    101762.960000               NaN      0.010260       0.000000   \n",
      "max    101840.230000               NaN      2.509020       1.000000   \n",
      "\n",
      "       volume_anomaly  \n",
      "count    10000.000000  \n",
      "mean         0.019800  \n",
      "std          0.139319  \n",
      "min          0.000000  \n",
      "25%          0.000000  \n",
      "50%          0.000000  \n",
      "75%          0.000000  \n",
      "max          1.000000  \n"
     ]
    }
   ],
   "source": [
    "# Adding anomalies\n",
    "\n",
    "df_with_anomalies = add_anomalies(df, anomaly_ratio=0.05)\n",
    "\n",
    "# Display original and anomalous DataFrames\n",
    "print(\"Original DataFrame:\")\n",
    "print(df.describe())\n",
    "print(\"\\nDataFrame with Anomalies:\")\n",
    "print(df_with_anomalies.describe())\n",
    "df_with_anomalies.to_csv('data/finnhub_anomalies1.csv', index=False)"
   ],
   "metadata": {
    "collapsed": false,
    "ExecuteTime": {
     "end_time": "2025-01-09T17:50:18.534883300Z",
     "start_time": "2025-01-09T17:50:18.111653500Z"
    }
   },
   "id": "612dbabfe4b7e844",
   "execution_count": 4
  },
  {
   "cell_type": "code",
   "outputs": [
    {
     "data": {
      "text/plain": "[<matplotlib.lines.Line2D at 0x268eab5e3e0>]"
     },
     "execution_count": 5,
     "metadata": {},
     "output_type": "execute_result"
    },
    {
     "data": {
      "text/plain": "<Figure size 640x480 with 1 Axes>",
      "image/png": "[encoded data removed]"
     },
     "metadata": {},
     "output_type": "display_data"
    }
   ],
   "source": [
    "\n",
    "plt.plot(df_with_anomalies[\"trade_ts\"], df_with_anomalies['price'])"
   ],
   "metadata": {
    "collapsed": false,
    "ExecuteTime": {
     "end_time": "2025-01-09T17:58:14.001448200Z",
     "start_time": "2025-01-09T17:50:18.537907Z"
    }
   },
   "id": "8f7a4a08ddd00277",
   "execution_count": 5
  },
  {
   "cell_type": "code",
   "outputs": [
    {
     "data": {
      "text/plain": "[<matplotlib.lines.Line2D at 0x268fe9763e0>]"
     },
     "execution_count": 6,
     "metadata": {},
     "output_type": "execute_result"
    }
   ],
   "source": [
    "plt.plot(df_with_anomalies[\"trade_ts\"], df_with_anomalies['volume'])"
   ],
   "metadata": {
    "collapsed": false,
    "is_executing": true,
    "ExecuteTime": {
     "start_time": "2025-01-09T17:58:13.999944500Z"
    }
   },
   "id": "bba772562afe94b1",
   "execution_count": null
  }
 ],
 "metadata": {
  "kernelspec": {
   "display_name": "Python 3",
   "language": "python",
   "name": "python3"
  },
  "language_info": {
   "codemirror_mode": {
    "name": "ipython",
    "version": 2
   },
   "file_extension": ".py",
   "mimetype": "text/x-python",
   "name": "python",
   "nbconvert_exporter": "python",
   "pygments_lexer": "ipython2",
   "version": "2.7.6"
  }
 },
 "nbformat": 4,
 "nbformat_minor": 5
}
